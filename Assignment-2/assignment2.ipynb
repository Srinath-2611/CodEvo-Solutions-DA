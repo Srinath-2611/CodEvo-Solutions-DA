{
  "nbformat": 4,
  "nbformat_minor": 0,
  "metadata": {
    "colab": {
      "provenance": []
    },
    "kernelspec": {
      "name": "python3",
      "display_name": "Python 3"
    },
    "language_info": {
      "name": "python"
    }
  },
  "cells": [
    {
      "cell_type": "code",
      "source": [
        "pip install newspaper3k\n"
      ],
      "metadata": {
        "colab": {
          "base_uri": "https://localhost:8080/"
        },
        "id": "_hVeysqXl5x8",
        "outputId": "57d05d4f-95e1-4574-ff11-f2f694478e7c"
      },
      "execution_count": 4,
      "outputs": [
        {
          "output_type": "stream",
          "name": "stdout",
          "text": [
            "Collecting newspaper3k\n",
            "  Downloading newspaper3k-0.2.8-py3-none-any.whl.metadata (11 kB)\n",
            "Requirement already satisfied: beautifulsoup4>=4.4.1 in /usr/local/lib/python3.10/dist-packages (from newspaper3k) (4.12.3)\n",
            "Requirement already satisfied: Pillow>=3.3.0 in /usr/local/lib/python3.10/dist-packages (from newspaper3k) (9.4.0)\n",
            "Requirement already satisfied: PyYAML>=3.11 in /usr/local/lib/python3.10/dist-packages (from newspaper3k) (6.0.2)\n",
            "Collecting cssselect>=0.9.2 (from newspaper3k)\n",
            "  Downloading cssselect-1.2.0-py2.py3-none-any.whl.metadata (2.2 kB)\n",
            "Requirement already satisfied: lxml>=3.6.0 in /usr/local/lib/python3.10/dist-packages (from newspaper3k) (4.9.4)\n",
            "Requirement already satisfied: nltk>=3.2.1 in /usr/local/lib/python3.10/dist-packages (from newspaper3k) (3.8.1)\n",
            "Requirement already satisfied: requests>=2.10.0 in /usr/local/lib/python3.10/dist-packages (from newspaper3k) (2.32.3)\n",
            "Collecting feedparser>=5.2.1 (from newspaper3k)\n",
            "  Downloading feedparser-6.0.11-py3-none-any.whl.metadata (2.4 kB)\n",
            "Collecting tldextract>=2.0.1 (from newspaper3k)\n",
            "  Downloading tldextract-5.1.2-py3-none-any.whl.metadata (11 kB)\n",
            "Collecting feedfinder2>=0.0.4 (from newspaper3k)\n",
            "  Downloading feedfinder2-0.0.4.tar.gz (3.3 kB)\n",
            "  Preparing metadata (setup.py) ... \u001b[?25l\u001b[?25hdone\n",
            "Collecting jieba3k>=0.35.1 (from newspaper3k)\n",
            "  Downloading jieba3k-0.35.1.zip (7.4 MB)\n",
            "\u001b[2K     \u001b[90m━━━━━━━━━━━━━━━━━━━━━━━━━━━━━━━━━━━━━━━━\u001b[0m \u001b[32m7.4/7.4 MB\u001b[0m \u001b[31m45.0 MB/s\u001b[0m eta \u001b[36m0:00:00\u001b[0m\n",
            "\u001b[?25h  Preparing metadata (setup.py) ... \u001b[?25l\u001b[?25hdone\n",
            "Requirement already satisfied: python-dateutil>=2.5.3 in /usr/local/lib/python3.10/dist-packages (from newspaper3k) (2.8.2)\n",
            "Collecting tinysegmenter==0.3 (from newspaper3k)\n",
            "  Downloading tinysegmenter-0.3.tar.gz (16 kB)\n",
            "  Preparing metadata (setup.py) ... \u001b[?25l\u001b[?25hdone\n",
            "Requirement already satisfied: soupsieve>1.2 in /usr/local/lib/python3.10/dist-packages (from beautifulsoup4>=4.4.1->newspaper3k) (2.6)\n",
            "Requirement already satisfied: six in /usr/local/lib/python3.10/dist-packages (from feedfinder2>=0.0.4->newspaper3k) (1.16.0)\n",
            "Collecting sgmllib3k (from feedparser>=5.2.1->newspaper3k)\n",
            "  Downloading sgmllib3k-1.0.0.tar.gz (5.8 kB)\n",
            "  Preparing metadata (setup.py) ... \u001b[?25l\u001b[?25hdone\n",
            "Requirement already satisfied: click in /usr/local/lib/python3.10/dist-packages (from nltk>=3.2.1->newspaper3k) (8.1.7)\n",
            "Requirement already satisfied: joblib in /usr/local/lib/python3.10/dist-packages (from nltk>=3.2.1->newspaper3k) (1.4.2)\n",
            "Requirement already satisfied: regex>=2021.8.3 in /usr/local/lib/python3.10/dist-packages (from nltk>=3.2.1->newspaper3k) (2024.5.15)\n",
            "Requirement already satisfied: tqdm in /usr/local/lib/python3.10/dist-packages (from nltk>=3.2.1->newspaper3k) (4.66.5)\n",
            "Requirement already satisfied: charset-normalizer<4,>=2 in /usr/local/lib/python3.10/dist-packages (from requests>=2.10.0->newspaper3k) (3.3.2)\n",
            "Requirement already satisfied: idna<4,>=2.5 in /usr/local/lib/python3.10/dist-packages (from requests>=2.10.0->newspaper3k) (3.8)\n",
            "Requirement already satisfied: urllib3<3,>=1.21.1 in /usr/local/lib/python3.10/dist-packages (from requests>=2.10.0->newspaper3k) (2.0.7)\n",
            "Requirement already satisfied: certifi>=2017.4.17 in /usr/local/lib/python3.10/dist-packages (from requests>=2.10.0->newspaper3k) (2024.7.4)\n",
            "Collecting requests-file>=1.4 (from tldextract>=2.0.1->newspaper3k)\n",
            "  Downloading requests_file-2.1.0-py2.py3-none-any.whl.metadata (1.7 kB)\n",
            "Requirement already satisfied: filelock>=3.0.8 in /usr/local/lib/python3.10/dist-packages (from tldextract>=2.0.1->newspaper3k) (3.15.4)\n",
            "Downloading newspaper3k-0.2.8-py3-none-any.whl (211 kB)\n",
            "\u001b[2K   \u001b[90m━━━━━━━━━━━━━━━━━━━━━━━━━━━━━━━━━━━━━━━━\u001b[0m \u001b[32m211.1/211.1 kB\u001b[0m \u001b[31m15.5 MB/s\u001b[0m eta \u001b[36m0:00:00\u001b[0m\n",
            "\u001b[?25hDownloading cssselect-1.2.0-py2.py3-none-any.whl (18 kB)\n",
            "Downloading feedparser-6.0.11-py3-none-any.whl (81 kB)\n",
            "\u001b[2K   \u001b[90m━━━━━━━━━━━━━━━━━━━━━━━━━━━━━━━━━━━━━━━━\u001b[0m \u001b[32m81.3/81.3 kB\u001b[0m \u001b[31m5.4 MB/s\u001b[0m eta \u001b[36m0:00:00\u001b[0m\n",
            "\u001b[?25hDownloading tldextract-5.1.2-py3-none-any.whl (97 kB)\n",
            "\u001b[2K   \u001b[90m━━━━━━━━━━━━━━━━━━━━━━━━━━━━━━━━━━━━━━━━\u001b[0m \u001b[32m97.6/97.6 kB\u001b[0m \u001b[31m7.1 MB/s\u001b[0m eta \u001b[36m0:00:00\u001b[0m\n",
            "\u001b[?25hDownloading requests_file-2.1.0-py2.py3-none-any.whl (4.2 kB)\n",
            "Building wheels for collected packages: tinysegmenter, feedfinder2, jieba3k, sgmllib3k\n",
            "  Building wheel for tinysegmenter (setup.py) ... \u001b[?25l\u001b[?25hdone\n",
            "  Created wheel for tinysegmenter: filename=tinysegmenter-0.3-py3-none-any.whl size=13540 sha256=b3c8cb7a981b37ae8d97dff27281a8074bcce7eb44eafc09ce0c482a745478f1\n",
            "  Stored in directory: /root/.cache/pip/wheels/c8/d6/6c/384f58df48c00b9a31d638005143b5b3ac62c3d25fb1447f23\n",
            "  Building wheel for feedfinder2 (setup.py) ... \u001b[?25l\u001b[?25hdone\n",
            "  Created wheel for feedfinder2: filename=feedfinder2-0.0.4-py3-none-any.whl size=3342 sha256=e6c47793994bbd6053de59cf84cf97c71019e8b9352107edde1f0712ab70dc79\n",
            "  Stored in directory: /root/.cache/pip/wheels/97/02/e7/a1ff1760e12bdbaab0ac824fae5c1bc933e41c4ccd6a8f8edb\n",
            "  Building wheel for jieba3k (setup.py) ... \u001b[?25l\u001b[?25hdone\n",
            "  Created wheel for jieba3k: filename=jieba3k-0.35.1-py3-none-any.whl size=7398380 sha256=26eaaee247347ec105a8784f931a8ec539d7b656e8e6c1b945063afb2b65ce76\n",
            "  Stored in directory: /root/.cache/pip/wheels/7a/c4/0c/12a9a314ecac499456c4c3b2fcc2f635a3b45a39dfbd240299\n",
            "  Building wheel for sgmllib3k (setup.py) ... \u001b[?25l\u001b[?25hdone\n",
            "  Created wheel for sgmllib3k: filename=sgmllib3k-1.0.0-py3-none-any.whl size=6047 sha256=9a921ade426201b46da18532254886c7f7c7da04eb2e1ecfe9c63605c7cfc8fc\n",
            "  Stored in directory: /root/.cache/pip/wheels/f0/69/93/a47e9d621be168e9e33c7ce60524393c0b92ae83cf6c6e89c5\n",
            "Successfully built tinysegmenter feedfinder2 jieba3k sgmllib3k\n",
            "Installing collected packages: tinysegmenter, sgmllib3k, jieba3k, feedparser, cssselect, requests-file, feedfinder2, tldextract, newspaper3k\n",
            "Successfully installed cssselect-1.2.0 feedfinder2-0.0.4 feedparser-6.0.11 jieba3k-0.35.1 newspaper3k-0.2.8 requests-file-2.1.0 sgmllib3k-1.0.0 tinysegmenter-0.3 tldextract-5.1.2\n"
          ]
        }
      ]
    },
    {
      "cell_type": "code",
      "source": [
        "pip install feedparser\n"
      ],
      "metadata": {
        "colab": {
          "base_uri": "https://localhost:8080/"
        },
        "id": "iCWAOCH3mCBG",
        "outputId": "a8960139-3c7c-467b-b086-2f5ac6974af5"
      },
      "execution_count": 5,
      "outputs": [
        {
          "output_type": "stream",
          "name": "stdout",
          "text": [
            "Requirement already satisfied: feedparser in /usr/local/lib/python3.10/dist-packages (6.0.11)\n",
            "Requirement already satisfied: sgmllib3k in /usr/local/lib/python3.10/dist-packages (from feedparser) (1.0.0)\n"
          ]
        }
      ]
    },
    {
      "cell_type": "code",
      "source": [
        "import feedparser\n",
        "from newspaper import Article\n"
      ],
      "metadata": {
        "id": "LxLW-K9VmIl_"
      },
      "execution_count": 6,
      "outputs": []
    },
    {
      "cell_type": "code",
      "source": [
        "def parse_rss_feed(rss_url):\n",
        "    feed = feedparser.parse(rss_url)\n",
        "    article_urls = [entry.link for entry in feed.entries]\n",
        "    return article_urls\n"
      ],
      "metadata": {
        "id": "iESqxJkomMRp"
      },
      "execution_count": 7,
      "outputs": []
    },
    {
      "cell_type": "code",
      "source": [
        "def extract_article_info(article_url):\n",
        "    article = Article(article_url)\n",
        "    article.download()\n",
        "    article.parse()\n",
        "\n",
        "    title = article.title\n",
        "    authors = article.authors\n",
        "    publish_date = article.publish_date\n",
        "    content = article.text\n",
        "\n",
        "    return {\n",
        "        \"title\": title,\n",
        "        \"authors\": authors,\n",
        "        \"publish_date\": publish_date,\n",
        "        \"content\": content\n",
        "    }\n"
      ],
      "metadata": {
        "id": "ENFZNiJWmTtY"
      },
      "execution_count": 8,
      "outputs": []
    },
    {
      "cell_type": "code",
      "source": [
        "def process_rss_feeds(rss_urls):\n",
        "    all_articles_info = []\n",
        "\n",
        "    for rss_url in rss_urls:\n",
        "        article_urls = parse_rss_feed(rss_url)\n",
        "\n",
        "        for article_url in article_urls:\n",
        "            article_info = extract_article_info(article_url)\n",
        "            all_articles_info.append(article_info)\n",
        "\n",
        "    return all_articles_info\n"
      ],
      "metadata": {
        "id": "8ad235prmXkv"
      },
      "execution_count": 9,
      "outputs": []
    },
    {
      "cell_type": "code",
      "source": [
        "rss_urls = [\n",
        "    'https://rss.cnn.com/rss/cnn_topstories.rss',\n",
        "    'https://rss.nytimes.com/services/xml/rss/nyt/HomePage.xml',\n",
        "    # Add more RSS feed URLs here\n",
        "]\n",
        "\n",
        "articles_info = process_rss_feeds(rss_urls)\n",
        "\n",
        "for article in articles_info:\n",
        "    print(f\"Title: {article['title']}\")\n",
        "    print(f\"Authors: {article['authors']}\")\n",
        "    print(f\"Publish Date: {article['publish_date']}\")\n",
        "    print(f\"Content: {article['content'][:200]}...\")  # Print first 200 characters\n",
        "    print(\"-\" * 40)\n"
      ],
      "metadata": {
        "colab": {
          "base_uri": "https://localhost:8080/"
        },
        "id": "Na4C0iyamazD",
        "outputId": "6de75327-ef2d-4312-fe6e-9005c0e2e1fd"
      },
      "execution_count": 10,
      "outputs": [
        {
          "output_type": "stream",
          "name": "stdout",
          "text": [
            "Title: Why It’s So Hard for China to Fix Its Ailing Economy\n",
            "Authors: ['Daisuke Wakabayashi', 'Claire Fu']\n",
            "Publish Date: 2024-09-03 00:00:00\n",
            "Content: In 2004, as China’s economy was emerging as a global force, a group of researchers started conducting nationwide surveys asking Chinese people if they were better off financially than they were five y...\n",
            "----------------------------------------\n",
            "Title: An Incomplete List of Everything Threatening China’s National Security\n",
            "Authors: ['Vivian Wang']\n",
            "Publish Date: 2024-09-03 00:00:00\n",
            "Content: What do snapping turtles, tissue boxes and college students looking for part-time jobs have in common?\n",
            "\n",
            "They all might be hiding threats to China’s national security.\n",
            "\n",
            "That, at least, is the message b...\n",
            "----------------------------------------\n",
            "Title: Record Rainfall Spoils Crops in China, Rattling Its Leaders\n",
            "Authors: ['Tiffany May', 'Claire Fu']\n",
            "Publish Date: 2024-09-02 00:00:00\n",
            "Content: After weeks of drought, farmers in the typically arid agricultural belt in northern China were ill prepared for the torrential rain that inundated fields earlier this summer and decimated their crops ...\n",
            "----------------------------------------\n",
            "Title: Netanyahu Stands Firm on Cease-Fire Terms Amid Growing Outrage in Israel\n",
            "Authors: ['Patrick Kingsley', 'Aaron Boxerman', 'Thomas Fuller']\n",
            "Publish Date: 2024-09-02 00:00:00\n",
            "Content: Brushing aside pleas from allies and the demands of Israeli protesters for an immediate cease-fire in Gaza in exchange for the release of hostages, Prime Minister Benjamin Netanyahu of Israel on Monda...\n",
            "----------------------------------------\n",
            "Title: Thousands Gather for Funeral of Israeli American Hostage Killed in Gaza\n",
            "Authors: ['Adam Rasgon']\n",
            "Publish Date: 2024-09-02 00:00:00\n",
            "Content: At a sprawling cemetery in Jerusalem on Monday, thousands of people thronged the parking lot to memorialize Hersh Goldberg-Polin, a dual Israeli American citizen and one of six hostages whose bodies w...\n",
            "----------------------------------------\n",
            "Title: Families of American Hostages Say a Deal ‘Has to Happen Right Now’\n",
            "Authors: ['Troy Closson', 'Campbell Robertson', 'Jay Root']\n",
            "Publish Date: 2024-09-02 00:00:00\n",
            "Content: The families of several American hostages criticized Prime Minister Benjamin Netanyahu of Israel on Monday as not moving urgently enough to secure a hostage release deal, after six hostages were found...\n",
            "----------------------------------------\n",
            "Title: Biden Says Netanyahu is Not Doing Enough to Free Hostages in Gaza\n",
            "Authors: ['David E. Sanger']\n",
            "Publish Date: 2024-09-02 00:00:00\n",
            "Content: President Biden issued a one-word rebuke on Monday to Prime Minister Benjamin Netanyahu’s commitment to reaching a cease-fire and hostage release deal, the latest iteration of the White House’s months...\n",
            "----------------------------------------\n",
            "Title: Biden Plays Second Fiddle to Harris as They Rally for Union Support\n",
            "Authors: ['Jonathan Weisman', 'Nicholas Nehamas']\n",
            "Publish Date: 2024-09-02 00:00:00\n",
            "Content: President Biden gave a demonstration on Monday that the Democratic Party now belongs to Vice President Kamala Harris, stepping to the microphone at a campaign event in Pittsburgh to introduce his No. ...\n",
            "----------------------------------------\n",
            "Title: How Donald Trump and Robert F. Kennedy Jr.’s Unlikely Partnership Took Shape\n",
            "Authors: ['Rebecca Davis O Brien', 'Jonathan Swan', 'Maggie Haberman']\n",
            "Publish Date: 2024-09-02 00:00:00\n",
            "Content: About three hours after former President Donald J. Trump was nearly assassinated, on a Saturday evening in mid-July, Robert F. Kennedy Jr. got a phone call: Would he consider joining forces with Mr. T...\n",
            "----------------------------------------\n",
            "Title: Haley’s Voters Size Up a Scrambled Presidential Race\n",
            "Authors: ['Jazmine Ulloa']\n",
            "Publish Date: 2024-09-02 00:00:00\n",
            "Content: Nikki Haley had been out of the Republicans’ presidential race for over a month when Linda Kapralick and Cathleen Barone cast their ballots for her in Pennsylvania’s primary, so eager were they for an...\n",
            "----------------------------------------\n",
            "Title: In a Scenic California Town, Worsening Landslides Force Power Shutoffs\n",
            "Authors: ['Corina Knoll', 'Loren Elliott', 'Photographs']\n",
            "Publish Date: 2024-09-02 00:00:00\n",
            "Content: Perched atop a majestic cliff, Rancho Palos Verdes is a stunning city by the sea. Those who live here do so for the grand views of the ocean, the lush valleys, the breeze that sweeps away the heat of ...\n",
            "----------------------------------------\n",
            "Title: U.S. Seized an Airplane Owned by Venezuela’s Nicolás Maduro\n",
            "Authors: ['Edward Wong']\n",
            "Publish Date: 2024-09-02 00:00:00\n",
            "Content: The U.S. government has seized an airplane linked to Nicolás Maduro, the leader of Venezuela, and brought it to Florida on Monday because it was bought in violation of U.S. sanctions, according to a J...\n",
            "----------------------------------------\n",
            "Title: Was This the Summer European Tourism Reached a Breaking Point?\n",
            "Authors: ['Ceylan Yeğinsu']\n",
            "Publish Date: 2024-09-02 00:00:00\n",
            "Content: Protesters staging hunger strikes against tourism developments. Local officials threatening to cut off water to illegal vacation rentals. Residents spraying tourists with water pistols.\n",
            "\n",
            "With Labor Da...\n",
            "----------------------------------------\n",
            "Title: Putin Arrives in Mongolia in Defiance of I.C.C. Arrest Warrant\n",
            "Authors: ['Valerie Hopkins', 'David Pierson']\n",
            "Publish Date: 2024-09-02 00:00:00\n",
            "Content: President Vladimir V. Putin of Russia arrived in Mongolia late Monday night for his first state visit to a member of the International Criminal Court since it issued a warrant for his arrest in March ...\n",
            "----------------------------------------\n",
            "Title: Shooting Mars Festivities at West Indian American Day Parade in Brooklyn\n",
            "Authors: ['Romaissaa Benzizoune', 'David Waldstein']\n",
            "Publish Date: 2024-09-02 00:00:00\n",
            "Content: At least five people were shot and wounded along the route of the annual West Indian American Day Parade in Brooklyn on Monday, briefly disrupting — but not derailing — a crowded and colorful celebrat...\n",
            "----------------------------------------\n",
            "Title: Opinion | Shiny New Technology, Same Old Funny Business\n",
            "Authors: ['Binyamin Appelbaum']\n",
            "Publish Date: 2024-09-03 00:00:00\n",
            "Content: Illegal price fixing used to require a lot of work. In the mid-1990s, to fix the price of the animal feed additive lysine, executives of some of the world’s biggest agribusinesses had to spend hours o...\n",
            "----------------------------------------\n",
            "Title: Opinion | I Paid My Child $100 to Read a Book\n",
            "Authors: ['Mireille Silcoff']\n",
            "Publish Date: 2024-09-02 00:00:00\n",
            "Content: This summer, I paid my 12-year-old daughter $100 to read a book. As far as mom maneuvers go, it was definitely last ditch and the size of the payout was certainly excessive. I can’t say I am proud — b...\n",
            "----------------------------------------\n",
            "Title: Opinion | This Is Not What Trump Had in Mind\n",
            "Authors: ['Gail Collins', 'Bret Stephens']\n",
            "Publish Date: 2024-09-02 00:00:00\n",
            "Content: Bret Stephens: Gail, I’ve never thought to ask you this, but we seem to have an occasion: Where do you stand on … fracking?\n",
            "\n",
            "Gail Collins: Bret, is it possible you want to point out that Kamala Harris...\n",
            "----------------------------------------\n",
            "Title: I’m a College President and Hope My Campus Is Even More Political This Year - The New York Times\n",
            "Authors: ['Michael S. Roth']\n",
            "Publish Date: 2024-09-02 00:00:00\n",
            "Content: Last year was a tough one on college campuses, so over the summer a lot of people asked me if I was hoping things would be less political this fall. Actually, I’m hoping they will be more political.\n",
            "\n",
            "...\n",
            "----------------------------------------\n",
            "Title: Pope Visits Indonesia, Where Muslim-Christian Harmony Is Under Strain\n",
            "Authors: ['Sui-Lee Wee', 'Emma Bubola']\n",
            "Publish Date: 2024-09-03 00:00:00\n",
            "Content: The hallelujahs rang out on Sunday from a small hall on the outskirts of Jakarta, the capital of Indonesia. The sounds from the Christian service could be heard within the green and orange mosque acro...\n",
            "----------------------------------------\n",
            "Title: Gao Zhen, Artist Who Critiqued the Cultural Revolution, Is Detained in China\n",
            "Authors: ['Yan Zhuang', 'Zixu Wang']\n",
            "Publish Date: 2024-09-02 00:00:00\n",
            "Content: Gao Zhen, a Chinese artist who has drawn international acclaim for works critiquing the Cultural Revolution, has been detained in China, his brother and artistic partner Gao Qiang said on Monday.\n",
            "\n",
            "The...\n",
            "----------------------------------------\n",
            "Title: Virginia Ogilvy, Confidante to Queen Elizabeth II, Dies at 91\n",
            "Authors: ['Clay Risen']\n",
            "Publish Date: 2024-09-02 00:00:00\n",
            "Content: Virginia Ogilvy, the Countess of Airlie, who served Queen Elizabeth II for nearly 50 years as the only American-born member of the monarch’s inner circle of advisers, assistants and close friends know...\n",
            "----------------------------------------\n",
            "Title: Brazilian Supreme Court Panel Upholds Order to Block Elon Musk’s X\n",
            "Authors: ['Jack Nicas']\n",
            "Publish Date: 2024-09-02 00:00:00\n",
            "Content: A panel of Brazilian Supreme Court justices voted on Monday to uphold a decision by one justice last week to block the social network X across the country because its owner, Elon Musk, refused to comp...\n",
            "----------------------------------------\n",
            "Title: Office Retreats Without Leaving the Office\n",
            "Authors: ['Yelena Moroz Alpert']\n",
            "Publish Date: 2024-08-30 00:00:00\n",
            "Content: This article is part of our Design special section about creating space with the look and feel for one person.\n",
            "\n",
            "Ask any worker who has spent time in a cubicle: As collaborative (and thrifty) as open-p...\n",
            "----------------------------------------\n"
          ]
        }
      ]
    },
    {
      "cell_type": "code",
      "source": [
        "def extract_article_info(article_url):\n",
        "    try:\n",
        "        article = Article(article_url)\n",
        "        article.download()\n",
        "        article.parse()\n",
        "\n",
        "        title = article.title\n",
        "        authors = article.authors\n",
        "        publish_date = article.publish_date\n",
        "        content = article.text\n",
        "\n",
        "        return {\n",
        "            \"title\": title,\n",
        "            \"authors\": authors,\n",
        "            \"publish_date\": publish_date,\n",
        "            \"content\": content\n",
        "        }\n",
        "    except Exception as e:\n",
        "        print(f\"Error processing {article_url}: {e}\")\n",
        "        return None\n"
      ],
      "metadata": {
        "id": "m1jSJlI6ml8K"
      },
      "execution_count": 11,
      "outputs": []
    }
  ]
}