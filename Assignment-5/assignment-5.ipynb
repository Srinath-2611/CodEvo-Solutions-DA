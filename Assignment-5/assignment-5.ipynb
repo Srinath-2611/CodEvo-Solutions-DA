{
 "cells": [
  {
   "cell_type": "code",
   "execution_count": 2,
   "id": "172c70e4-ecdd-4f98-8ef0-cf92a85e6b33",
   "metadata": {},
   "outputs": [
    {
     "name": "stdout",
     "output_type": "stream",
     "text": [
      "Sector                                   0\n",
      "Year                                     0\n",
      "Month                                    0\n",
      "Cereals and products                     3\n",
      "Meat and fish                            6\n",
      "Egg                                      3\n",
      "Milk and products                        3\n",
      "Oils and fats                            3\n",
      "Fruits                                   3\n",
      "Vegetables                               3\n",
      "Pulses and products                      3\n",
      "Sugar and Confectionery                  3\n",
      "Spices                                   3\n",
      "Non-alcoholic beverages                  3\n",
      "Prepared meals, snacks, sweets etc.      6\n",
      "Food and beverages                       3\n",
      "Pan, tobacco and intoxicants             6\n",
      "Clothing                                 6\n",
      "Footwear                                 6\n",
      "Clothing and footwear                    6\n",
      "Housing                                122\n",
      "Fuel and light                           3\n",
      "Household goods and services             6\n",
      "Health                                   3\n",
      "Transport and communication              6\n",
      "Recreation and amusement                 6\n",
      "Education                                6\n",
      "Personal care and effects                6\n",
      "Miscellaneous                            6\n",
      "General index                            6\n",
      "dtype: int64\n"
     ]
    }
   ],
   "source": [
    "import pandas as pd\n",
    "\n",
    "# Load the dataset\n",
    "df = pd.read_csv(r'C:\\Users\\venky\\Downloads\\assignment-5\\2\\All_India_Index_Upto_Feb24.csv')\n",
    "\n",
    "# Check for missing values\n",
    "print(df.isnull().sum())\n",
    "\n",
    "# Forward fill missing values\n",
    "df.ffill(inplace=True)  # Forward fill\n",
    "\n",
    "# Or, for backward fill use this instead:\n",
    "# df.bfill(inplace=True)\n",
    "\n",
    "# Remove duplicates\n",
    "df.drop_duplicates(inplace=True)\n",
    "\n",
    "# Save cleaned dataset\n",
    "df.to_csv('cleaned_dataset.csv', index=False)\n"
   ]
  },
  {
   "cell_type": "code",
   "execution_count": 11,
   "id": "ee686fea-d507-40b6-a2e8-6c7e4ba5fd3d",
   "metadata": {},
   "outputs": [
    {
     "name": "stdout",
     "output_type": "stream",
     "text": [
      "        Sector  Year     Month  Cereals and products  Meat and fish    Egg  \\\n",
      "0        Rural  2013   January                 107.5          106.3  108.1   \n",
      "1        Urban  2013   January                 110.5          109.1  113.0   \n",
      "2  Rural+Urban  2013   January                 108.4          107.3  110.0   \n",
      "3        Rural  2013  February                 109.2          108.7  110.2   \n",
      "4        Urban  2013  February                 112.9          112.9  116.9   \n",
      "\n",
      "   Milk and products  Oils and fats  Fruits  Vegetables  ...  Housing  \\\n",
      "0              104.9          106.1   103.9       101.9  ...      NaN   \n",
      "1              103.6          103.4   102.3       102.9  ...    100.3   \n",
      "2              104.4          105.1   103.2       102.2  ...    100.3   \n",
      "3              105.4          106.7   104.0       102.4  ...    100.3   \n",
      "4              104.0          103.5   103.1       104.9  ...    100.4   \n",
      "\n",
      "   Fuel and light  Household goods and services  Health  \\\n",
      "0           105.5                         104.8   104.0   \n",
      "1           105.4                         104.8   104.1   \n",
      "2           105.5                         104.8   104.0   \n",
      "3           106.2                         105.2   104.4   \n",
      "4           105.7                         105.2   104.7   \n",
      "\n",
      "   Transport and communication  Recreation and amusement  Education  \\\n",
      "0                        103.3                     103.4      103.8   \n",
      "1                        103.2                     102.9      103.5   \n",
      "2                        103.2                     103.1      103.6   \n",
      "3                        103.9                     104.0      104.1   \n",
      "4                        104.4                     103.3      103.7   \n",
      "\n",
      "   Personal care and effects  Miscellaneous  General index  \n",
      "0                      104.7          104.0          105.1  \n",
      "1                      104.3          103.7          104.0  \n",
      "2                      104.5          103.9          104.6  \n",
      "3                      104.6          104.4          105.8  \n",
      "4                      104.3          104.3          104.7  \n",
      "\n",
      "[5 rows x 30 columns]\n"
     ]
    }
   ],
   "source": [
    "import pandas as pd\n",
    "\n",
    "# Load the cleaned dataset\n",
    "cleaned_data = pd.read_csv(r'C:\\Users\\venky\\Downloads\\assignment-5\\2\\cleaned_dataset.csv')\n",
    "\n",
    "# Display the first few rows of the dataset\n",
    "print(cleaned_data.head())\n"
   ]
  },
  {
   "cell_type": "code",
   "execution_count": 3,
   "id": "c23f7d03-887e-42ad-a740-66ee42646aac",
   "metadata": {},
   "outputs": [
    {
     "ename": "NameError",
     "evalue": "name 'cleaned_data' is not defined",
     "output_type": "error",
     "traceback": [
      "\u001b[1;31m---------------------------------------------------------------------------\u001b[0m",
      "\u001b[1;31mNameError\u001b[0m                                 Traceback (most recent call last)",
      "Cell \u001b[1;32mIn[3], line 2\u001b[0m\n\u001b[0;32m      1\u001b[0m \u001b[38;5;66;03m# Step 3: Select only the numeric columns for aggregation, excluding 'Year' and 'Sector'\u001b[39;00m\n\u001b[1;32m----> 2\u001b[0m numeric_columns \u001b[38;5;241m=\u001b[39m \u001b[43mcleaned_data\u001b[49m\u001b[38;5;241m.\u001b[39mdrop(columns\u001b[38;5;241m=\u001b[39m[\u001b[38;5;124m'\u001b[39m\u001b[38;5;124mSector\u001b[39m\u001b[38;5;124m'\u001b[39m, \u001b[38;5;124m'\u001b[39m\u001b[38;5;124mYear\u001b[39m\u001b[38;5;124m'\u001b[39m, \u001b[38;5;124m'\u001b[39m\u001b[38;5;124mMonth\u001b[39m\u001b[38;5;124m'\u001b[39m])\n\u001b[0;32m      4\u001b[0m \u001b[38;5;66;03m# Combine 'Year' and 'Sector' columns with numeric data for aggregation\u001b[39;00m\n\u001b[0;32m      5\u001b[0m data_for_aggregation \u001b[38;5;241m=\u001b[39m pd\u001b[38;5;241m.\u001b[39mconcat([cleaned_data[[\u001b[38;5;124m'\u001b[39m\u001b[38;5;124mYear\u001b[39m\u001b[38;5;124m'\u001b[39m, \u001b[38;5;124m'\u001b[39m\u001b[38;5;124mSector\u001b[39m\u001b[38;5;124m'\u001b[39m]], numeric_columns], axis\u001b[38;5;241m=\u001b[39m\u001b[38;5;241m1\u001b[39m)\n",
      "\u001b[1;31mNameError\u001b[0m: name 'cleaned_data' is not defined"
     ]
    }
   ],
   "source": [
    "# Step 3: Select only the numeric columns for aggregation, excluding 'Year' and 'Sector'\n",
    "numeric_columns = cleaned_data.drop(columns=['Sector', 'Year', 'Month'])\n",
    "\n",
    "# Combine 'Year' and 'Sector' columns with numeric data for aggregation\n",
    "data_for_aggregation = pd.concat([cleaned_data[['Year', 'Sector']], numeric_columns], axis=1)\n",
    "\n",
    "# Check for missing values (optional)\n",
    "print(data_for_aggregation.isnull().sum())\n"
   ]
  },
  {
   "cell_type": "code",
   "execution_count": 4,
   "id": "6b3aa62c-ca9b-4a0f-a2a6-272710e69fc8",
   "metadata": {},
   "outputs": [
    {
     "name": "stdout",
     "output_type": "stream",
     "text": [
      "Yearly average CPI values by Sector:\n",
      "   Year       Sector  Cereals and products  Meat and fish         Egg  \\\n",
      "0  2013        Rural            112.950000     112.283333  110.966667   \n",
      "1  2013  Rural+Urban            114.083333     113.600000  112.208333   \n",
      "2  2013        Urban            116.516667     116.025000  114.150000   \n",
      "3  2014        Rural            121.091667     120.733333  118.900000   \n",
      "4  2014  Rural+Urban            121.783333     122.033333  119.208333   \n",
      "\n",
      "   Milk and products  Oils and fats      Fruits  Vegetables  \\\n",
      "0         108.883333     106.833333  109.708333  128.766667   \n",
      "1         108.408333     105.158333  108.875000  133.758333   \n",
      "2         107.616667     102.275000  107.900000  143.491667   \n",
      "3         119.700000     110.000000  125.350000  137.425000   \n",
      "4         119.833333     107.516667  124.791667  139.041667   \n",
      "\n",
      "   Pulses and products  ...  Clothing and footwear  Fuel and light  \\\n",
      "0           107.150000  ...             110.350000      108.983333   \n",
      "1           106.491667  ...             110.000000      108.633333   \n",
      "2           105.183333  ...             109.466667      108.016667   \n",
      "3           112.883333  ...             119.708333      114.866667   \n",
      "4           113.125000  ...             118.666667      113.616667   \n",
      "\n",
      "   Household goods and services      Health  Transport and communication  \\\n",
      "0                    108.033333  106.800000                   106.500000   \n",
      "1                    108.000000  106.766667                   106.675000   \n",
      "2                    107.983333  106.733333                   106.825000   \n",
      "3                    115.283333  113.241667                   111.883333   \n",
      "4                    114.916667  112.641667                   111.508333   \n",
      "\n",
      "   Recreation and amusement   Education  Personal care and effects  \\\n",
      "0                106.133333  107.341667                 104.908333   \n",
      "1                105.891667  107.716667                 104.975000   \n",
      "2                105.725000  108.008333                 105.075000   \n",
      "3                111.558333  114.725000                 108.875000   \n",
      "4                111.900000  115.550000                 109.116667   \n",
      "\n",
      "   Miscellaneous  General index  \n",
      "0     106.633333     110.400000  \n",
      "1     106.758333     110.033333  \n",
      "2     106.900000     109.608333  \n",
      "3     112.583333     117.891667  \n",
      "4     112.550000     117.350000  \n",
      "\n",
      "[5 rows x 28 columns]\n"
     ]
    }
   ],
   "source": [
    "import pandas as pd\n",
    "\n",
    "# Step 1: Ensure 'Year' column is numeric, coercing errors to NaN\n",
    "df['Year'] = pd.to_numeric(df['Year'], errors='coerce')\n",
    "\n",
    "# Step 2: Drop rows where 'Year' or 'Sector' is NaN or non-numeric\n",
    "df_clean = df.dropna(subset=['Year', 'Sector'])\n",
    "\n",
    "# Step 3: Ensure 'Year' is integer (optional, depending on your needs)\n",
    "df_clean['Year'] = df_clean['Year'].astype(int)\n",
    "\n",
    "# Step 4: Select only numeric columns (excluding 'Year' and 'Sector' for aggregation)\n",
    "numeric_columns = df_clean.select_dtypes(include='number').drop(columns=['Year'])\n",
    "\n",
    "# Step 5: Combine 'Year', 'Sector', and numeric columns\n",
    "data_for_aggregation = pd.concat([df_clean[['Year', 'Sector']], numeric_columns], axis=1)\n",
    "\n",
    "# Step 6: Group by 'Year' and 'Sector', then calculate the mean for numeric columns\n",
    "yearly_avg_cpi = data_for_aggregation.groupby(['Year', 'Sector']).mean().reset_index()\n",
    "\n",
    "# Step 7: Display the results\n",
    "print(\"Yearly average CPI values by Sector:\")\n",
    "print(yearly_avg_cpi.head())\n",
    "\n",
    "# Optional: Save the results into a CSV file\n",
    "yearly_avg_cpi.to_csv('yearly_avg_cpi.csv', index=False)\n"
   ]
  },
  {
   "cell_type": "code",
   "execution_count": 8,
   "id": "43ee77c7-0d29-4d1a-a6a3-55f8137fc1a0",
   "metadata": {},
   "outputs": [
    {
     "name": "stderr",
     "output_type": "stream",
     "text": [
      "C:\\Users\\venky\\AppData\\Local\\Temp\\ipykernel_2956\\4286004601.py:11: SettingWithCopyWarning: \n",
      "A value is trying to be set on a copy of a slice from a DataFrame.\n",
      "Try using .loc[row_indexer,col_indexer] = value instead\n",
      "\n",
      "See the caveats in the documentation: https://pandas.pydata.org/pandas-docs/stable/user_guide/indexing.html#returning-a-view-versus-a-copy\n",
      "  filtered_data['General index'] = pd.to_numeric(filtered_data['General index'], errors='coerce')\n"
     ]
    },
    {
     "data": {
      "image/png": "[encoded data removed]",
      "text/plain": [
       "<Figure size 1000x600 with 1 Axes>"
      ]
     },
     "metadata": {},
     "output_type": "display_data"
    }
   ],
   "source": [
    "import pandas as pd\n",
    "import matplotlib.pyplot as plt\n",
    "\n",
    "# Assuming the dataset is loaded into 'df'\n",
    "\n",
    "# Step 1: Filter data by Sector (choose Rural, Urban, or Rural+Urban)\n",
    "sector_name = 'Rural+Urban'  # You can change this to 'Rural' or 'Urban'\n",
    "filtered_data = df[df['Sector'] == sector_name]\n",
    "\n",
    "# Step 2: Convert the 'General index' column to numeric (if not already)\n",
    "filtered_data['General index'] = pd.to_numeric(filtered_data['General index'], errors='coerce')\n",
    "\n",
    "# Step 3: Group the data by 'Year' and calculate the mean of the 'General index'\n",
    "yearly_avg_general_index = filtered_data.groupby('Year')['General index'].mean().reset_index()\n",
    "\n",
    "# Step 4: Plot the yearly average 'General index' over time\n",
    "plt.figure(figsize=(10, 6))\n",
    "plt.plot(yearly_avg_general_index['Year'], yearly_avg_general_index['General index'], marker='o', color='b', label=sector_name)\n",
    "\n",
    "# Step 5: Add labels, title, and grid\n",
    "plt.title(f'Yearly Average General Index for {sector_name} (2013-2024)')\n",
    "plt.xlabel('Year')\n",
    "plt.ylabel('General Index (Average)')\n",
    "plt.grid(True)\n",
    "plt.legend()\n",
    "plt.show()\n"
   ]
  },
  {
   "cell_type": "code",
   "execution_count": null,
   "id": "ba55eccd-278e-4f19-8923-746b60e80b4c",
   "metadata": {},
   "outputs": [],
   "source": []
  }
 ],
 "metadata": {
  "kernelspec": {
   "display_name": "Python 3 (ipykernel)",
   "language": "python",
   "name": "python3"
  },
  "language_info": {
   "codemirror_mode": {
    "name": "ipython",
    "version": 3
   },
   "file_extension": ".py",
   "mimetype": "text/x-python",
   "name": "python",
   "nbconvert_exporter": "python",
   "pygments_lexer": "ipython3",
   "version": "3.10.0"
  }
 },
 "nbformat": 4,
 "nbformat_minor": 5
}
